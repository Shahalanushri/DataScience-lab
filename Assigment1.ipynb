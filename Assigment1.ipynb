{
 "cells": [
  {
   "cell_type": "code",
   "execution_count": 39,
   "id": "087f29be",
   "metadata": {},
   "outputs": [
    {
     "name": "stdout",
     "output_type": "stream",
     "text": [
      "Addition\n",
      "Enter first number:5\n",
      "Enter second number:5\n",
      "Sum of two numbers is: 10\n",
      "\n",
      "Multiplication\n",
      "Enter first number:5\n",
      "Enter second number:2\n",
      "Multiplication of two numbers is: 10\n",
      "\n",
      "Substraction\n",
      "Enter first number:5\n",
      "Enter second number:2\n",
      "Substraction of two numbers is: 3\n",
      "\n",
      "Division\n",
      "Enter first number:5\n",
      "Enter second number:2\n",
      "Sum of two numbers is: 2.5\n",
      "\n",
      "Boolean operations\n",
      "True\n",
      "False\n",
      "False\n",
      "a is greaterthan b\n"
     ]
    }
   ],
   "source": [
    "#Arithmetic operations\n",
    "print(\"Addition\")\n",
    "a=int(input(\"Enter first number:\"))\n",
    "b=int(input(\"Enter second number:\"))\n",
    "c=a+b\n",
    "print(\"Sum of two numbers is:\",c)\n",
    "\n",
    "#Arithmetic operations\n",
    "print(\"\\nMultiplication\")\n",
    "a=int(input(\"Enter first number:\"))\n",
    "b=int(input(\"Enter second number:\"))\n",
    "c=a*b\n",
    "print(\"Multiplication of two numbers is:\",c)\n",
    "\n",
    "#Arithmetic operations\n",
    "print(\"\\nSubstraction\")\n",
    "a=int(input(\"Enter first number:\"))\n",
    "b=int(input(\"Enter second number:\"))\n",
    "c=a-b\n",
    "print(\"Substraction of two numbers is:\",c)\n",
    "\n",
    "#Arithmetic operations\n",
    "print(\"\\nDivision\")\n",
    "a=int(input(\"Enter first number:\"))\n",
    "b=int(input(\"Enter second number:\"))\n",
    "c=a/b\n",
    "print(\"Sum of two numbers is:\",c)\n",
    "\n",
    "\n",
    "#Boolean operations\n",
    "print(\"\\nBoolean operations\")\n",
    "a=10\n",
    "b=5\n",
    "print(a > b)\n",
    "print(a == b)\n",
    "print(a < b)\n",
    "if a>b:\n",
    "    print(\"a is greaterthan b\")\n",
    "else:\n",
    "    print(\"b is greaterthan a\")\n",
    "\n"
   ]
  },
  {
   "cell_type": "code",
   "execution_count": null,
   "id": "ee6ee9b8",
   "metadata": {},
   "outputs": [],
   "source": []
  },
  {
   "cell_type": "code",
   "execution_count": null,
   "id": "0dcd4b31",
   "metadata": {},
   "outputs": [],
   "source": []
  },
  {
   "cell_type": "code",
   "execution_count": null,
   "id": "02b1dd37",
   "metadata": {},
   "outputs": [],
   "source": []
  },
  {
   "cell_type": "code",
   "execution_count": 7,
   "id": "893ccfef",
   "metadata": {},
   "outputs": [
    {
     "name": "stdout",
     "output_type": "stream",
     "text": [
      "Print String \n",
      "Hello world....\n"
     ]
    }
   ],
   "source": [
    "#String operations\n",
    "print(\"Print String \")\n",
    "print(\"Hello world....\")\n"
   ]
  },
  {
   "cell_type": "code",
   "execution_count": 9,
   "id": "10cdeb32",
   "metadata": {},
   "outputs": [
    {
     "name": "stdout",
     "output_type": "stream",
     "text": [
      "HELLO WORLD\n",
      "good morning\n"
     ]
    }
   ],
   "source": [
    "#String touppercase&lowercase\n",
    "a=\"hello world\"\n",
    "b=\"GOOD MORNING\"\n",
    "print(a.upper())\n",
    "print(b.lower())\n"
   ]
  },
  {
   "cell_type": "code",
   "execution_count": 10,
   "id": "50647cdc",
   "metadata": {},
   "outputs": [
    {
     "name": "stdout",
     "output_type": "stream",
     "text": [
      "l\n"
     ]
    }
   ],
   "source": [
    "#indexing\n",
    "a=\"hello world\"\n",
    "print(a[3])"
   ]
  },
  {
   "cell_type": "code",
   "execution_count": 14,
   "id": "a0a827a4",
   "metadata": {},
   "outputs": [
    {
     "name": "stdout",
     "output_type": "stream",
     "text": [
      "False\n",
      "True\n"
     ]
    }
   ],
   "source": [
    "#compare two strings\n",
    "a=\"hello\"\n",
    "b=\"HELLO\"\n",
    "c=\"hello\"\n",
    "print(a==b)\n",
    "print(a==c)\n"
   ]
  },
  {
   "cell_type": "code",
   "execution_count": 15,
   "id": "6ebbc442",
   "metadata": {},
   "outputs": [
    {
     "name": "stdout",
     "output_type": "stream",
     "text": [
      "helloworld\n"
     ]
    }
   ],
   "source": [
    "#concatenate\n",
    "a=\"hello\"\n",
    "b=\"world\"\n",
    "c=a+b\n",
    "print(c)"
   ]
  },
  {
   "cell_type": "code",
   "execution_count": 16,
   "id": "b3651290",
   "metadata": {},
   "outputs": [
    {
     "name": "stdout",
     "output_type": "stream",
     "text": [
      "11\n"
     ]
    }
   ],
   "source": [
    "#length of string\n",
    "a=\"hello world\"\n",
    "print(len(a))"
   ]
  },
  {
   "cell_type": "code",
   "execution_count": 19,
   "id": "a7e384cf",
   "metadata": {},
   "outputs": [
    {
     "name": "stdout",
     "output_type": "stream",
     "text": [
      "hey world\n"
     ]
    }
   ],
   "source": [
    "#replace string\n",
    "a=\"hello world\"\n",
    "b=a.replace('hello','hey')\n",
    "print(b)"
   ]
  },
  {
   "cell_type": "code",
   "execution_count": 20,
   "id": "099ac719",
   "metadata": {},
   "outputs": [
    {
     "name": "stdout",
     "output_type": "stream",
     "text": [
      "['how', 'are', 'you']\n"
     ]
    }
   ],
   "source": [
    "#split string\n",
    "a=\"how are you\"\n",
    "print(a.split())"
   ]
  },
  {
   "cell_type": "code",
   "execution_count": 28,
   "id": "ac7d5848",
   "metadata": {},
   "outputs": [
    {
     "name": "stdout",
     "output_type": "stream",
     "text": [
      "Enter numbers:2 3 4\n",
      "List= ['2 3 4']\n",
      "Enter colors:red,blue,black\n",
      "First color= red\n",
      "Last color= black\n",
      "['red', 'blue', 'black']\n",
      "['red', 'blue', 'black', 'white']\n",
      "['red', 'black', 'white']\n"
     ]
    }
   ],
   "source": [
    "#Create a list\n",
    "n=input(\"Enter numbers:\")\n",
    "p=n.split(\",\")\n",
    "print(\"List=\",p)\n",
    "\n",
    "\n",
    "#List of colors\n",
    "n=input(\"Enter colors:\")\n",
    "p=n.split(\",\")\n",
    "print(\"First color=\",p[0])\n",
    "print(\"Last color=\",p[-1])\n",
    "\n",
    "##\n",
    "colour=[\"red\",\"blue\",\"black\"]\n",
    "print(colour)\n",
    "\n",
    "#append\n",
    "colour.append(\"white\")\n",
    "print(colour)\n",
    "\n",
    "#remove\n",
    "colour.remove(\"blue\")\n",
    "print(colour)\n",
    "\n",
    "\n",
    "\n"
   ]
  },
  {
   "cell_type": "code",
   "execution_count": 33,
   "id": "e3f02cdf",
   "metadata": {},
   "outputs": [
    {
     "name": "stdout",
     "output_type": "stream",
     "text": [
      "('apple', 'banana', 'cherry', 'apple', 'cherry')\n",
      "5\n",
      "('abc', 34, True, 40, 'male')\n",
      "<class 'tuple'>\n"
     ]
    }
   ],
   "source": [
    "#tuple\n",
    "a = (\"apple\", \"banana\", \"cherry\", \"apple\", \"cherry\")\n",
    "print(a)\n",
    "#length of tuple\n",
    "print(len(a))\n",
    "#diff datatypes\n",
    "b = (\"abc\", 34, True, 40, \"male\")\n",
    "print(b)\n",
    "#data types\n",
    "tuple=(\"apple\",\"banana\",\"cherry\")\n",
    "print(type(tuple))\n"
   ]
  },
  {
   "cell_type": "code",
   "execution_count": 46,
   "id": "9f5dc46d",
   "metadata": {},
   "outputs": [
    {
     "name": "stdout",
     "output_type": "stream",
     "text": [
      "{'name': 'neena', 'age': 21, 'city': 'othayi'}\n",
      "3\n",
      "neena\n",
      "<class 'dict'>\n"
     ]
    }
   ],
   "source": [
    "#Dictionary\n",
    "dict ={\n",
    "  \"name\": \"neena\",\n",
    "  \"age\": 22,\n",
    "  \"age\":21,\n",
    "  \"city\": \"othayi\"\n",
    "    \n",
    "}\n",
    "print(dict)\n",
    "\n",
    "#length\n",
    "print(len(dict))\n",
    "#print specific values\n",
    "print(dict[\"name\"])\n",
    "#type\n",
    "print(type(dict))\n"
   ]
  },
  {
   "cell_type": "code",
   "execution_count": 50,
   "id": "8b399f93",
   "metadata": {},
   "outputs": [
    {
     "name": "stdout",
     "output_type": "stream",
     "text": [
      "hello world....\n",
      "heyyou\n",
      "hiyou\n",
      "helloyou\n"
     ]
    }
   ],
   "source": [
    "#function\n",
    "def fun():\n",
    "    print(\"hello world....\")\n",
    "fun()\n",
    "\n",
    "#arguments\n",
    "def myfun(name):\n",
    "    print(name + \"you\")\n",
    "myfun(\"hey\")\n",
    "myfun(\"hi\")\n",
    "myfun(\"hello\")"
   ]
  },
  {
   "cell_type": "code",
   "execution_count": null,
   "id": "b6766936",
   "metadata": {},
   "outputs": [],
   "source": []
  }
 ],
 "metadata": {
  "kernelspec": {
   "display_name": "Python 3 (ipykernel)",
   "language": "python",
   "name": "python3"
  },
  "language_info": {
   "codemirror_mode": {
    "name": "ipython",
    "version": 3
   },
   "file_extension": ".py",
   "mimetype": "text/x-python",
   "name": "python",
   "nbconvert_exporter": "python",
   "pygments_lexer": "ipython3",
   "version": "3.11.5"
  }
 },
 "nbformat": 4,
 "nbformat_minor": 5
}
