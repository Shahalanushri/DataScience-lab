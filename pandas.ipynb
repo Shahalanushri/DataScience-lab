{
 "cells": [
  {
   "cell_type": "code",
   "execution_count": 1,
   "id": "64431b2e",
   "metadata": {},
   "outputs": [
    {
     "name": "stdout",
     "output_type": "stream",
     "text": [
      "   fruits  count\n",
      "0   Apple      3\n",
      "1  Orange      7\n",
      "2  Banana      2\n"
     ]
    }
   ],
   "source": [
    "import pandas\n",
    "\n",
    "set = {\n",
    "  'fruits': [\"Apple\", \"Orange\", \"Banana\"],\n",
    "  'count': [3, 7, 2]\n",
    "}\n",
    "\n",
    "var = pandas.DataFrame(set)\n",
    "\n",
    "print(var) "
   ]
  },
  {
   "cell_type": "code",
   "execution_count": 7,
   "id": "328cc230",
   "metadata": {},
   "outputs": [
    {
     "name": "stdout",
     "output_type": "stream",
     "text": [
      "x    1\n",
      "y    7\n",
      "z    2\n",
      "dtype: int64\n",
      "2\n"
     ]
    }
   ],
   "source": [
    "import pandas as pd\n",
    "\n",
    "a = [1, 7, 2]\n",
    "\n",
    "b = pd.Series(a,index=[\"x\",\"y\",\"z\"])\n",
    "\n",
    "print(b)\n",
    "print(b[\"z\"])"
   ]
  },
  {
   "cell_type": "code",
   "execution_count": 14,
   "id": "607eb275",
   "metadata": {},
   "outputs": [
    {
     "name": "stdout",
     "output_type": "stream",
     "text": [
      "   rollno  name\n",
      "0      20   anu\n",
      "1       8  manu\n",
      "2       3  ammu\n"
     ]
    }
   ],
   "source": [
    "import pandas as pd\n",
    "\n",
    "data = {\n",
    "  \"rollno\": [20, 8, 3],\n",
    "  \"name\": [\"anu\", \"manu\", \"ammu\"]\n",
    "}\n",
    "df = pd.DataFrame(data)\n",
    "\n",
    "\n",
    "print(a)"
   ]
  },
  {
   "cell_type": "code",
   "execution_count": 23,
   "id": "53a4eeca",
   "metadata": {},
   "outputs": [
    {
     "name": "stdout",
     "output_type": "stream",
     "text": [
      "       Name      HEX               RGB\n",
      "0     White  #FFFFFF  rgb(100,100,100)\n",
      "1    Silver  #C0C0C0     rgb(75,75,75)\n",
      "2      Gray  #808080     rgb(50,50,50)\n",
      "3     Black  #000000        rgb(0,0,0)\n",
      "4       Red  #FF0000      rgb(100,0,0)\n",
      "5    Maroon  #800000       rgb(50,0,0)\n",
      "6    Yellow  #FFFF00    rgb(100,100,0)\n",
      "7     Olive  #808000      rgb(50,50,0)\n",
      "8      Lime  #00FF00      rgb(0,100,0)\n",
      "9     Green  #008000       rgb(0,50,0)\n",
      "10     Aqua  #00FFFF    rgb(0,100,100)\n",
      "11     Teal  #008080      rgb(0,50,50)\n",
      "12     Blue  #0000FF      rgb(0,0,100)\n",
      "13     Navy  #000080       rgb(0,0,50)\n",
      "14  Fuchsia  #FF00FF    rgb(100,0,100)\n",
      "15   Purple  #800080      rgb(50,0,50)\n",
      "     Name      HEX               RGB\n",
      "0   White  #FFFFFF  rgb(100,100,100)\n",
      "1  Silver  #C0C0C0     rgb(75,75,75)\n",
      "2    Gray  #808080     rgb(50,50,50)\n",
      "3   Black  #000000        rgb(0,0,0)\n",
      "4     Red  #FF0000      rgb(100,0,0)\n",
      "       Name      HEX             RGB\n",
      "11     Teal  #008080    rgb(0,50,50)\n",
      "12     Blue  #0000FF    rgb(0,0,100)\n",
      "13     Navy  #000080     rgb(0,0,50)\n",
      "14  Fuchsia  #FF00FF  rgb(100,0,100)\n",
      "15   Purple  #800080    rgb(50,0,50)\n"
     ]
    }
   ],
   "source": [
    "import pandas as pd\n",
    "\n",
    "df = pd.read_csv('/home/ksb/Downloads/color_srgb.csv')\n",
    "\n",
    "print(df.to_string()) \n",
    "print(df.head())\n",
    "print(df.tail())"
   ]
  },
  {
   "cell_type": "code",
   "execution_count": 21,
   "id": "31b6b2e1",
   "metadata": {},
   "outputs": [
    {
     "name": "stdout",
     "output_type": "stream",
     "text": [
      "       Name      HEX               RGB\n",
      "0     White  #FFFFFF  rgb(100,100,100)\n",
      "1    Silver  #C0C0C0     rgb(75,75,75)\n",
      "2      Gray  #808080     rgb(50,50,50)\n",
      "3     Black  #000000        rgb(0,0,0)\n",
      "4       Red  #FF0000      rgb(100,0,0)\n",
      "..      ...      ...               ...\n",
      "11     Teal  #008080      rgb(0,50,50)\n",
      "12     Blue  #0000FF      rgb(0,0,100)\n",
      "13     Navy  #000080       rgb(0,0,50)\n",
      "14  Fuchsia  #FF00FF    rgb(100,0,100)\n",
      "15   Purple  #800080      rgb(50,0,50)\n",
      "\n",
      "[16 rows x 3 columns]\n"
     ]
    }
   ],
   "source": [
    "import pandas as pd\n",
    "\n",
    "pd.options.display.max_rows = 10\n",
    "\n",
    "df = pd.read_csv('/home/ksb/Downloads/color_srgb.csv')\n",
    "\n",
    "print(df) "
   ]
  },
  {
   "cell_type": "code",
   "execution_count": null,
   "id": "312f9499",
   "metadata": {},
   "outputs": [],
   "source": []
  }
 ],
 "metadata": {
  "kernelspec": {
   "display_name": "Python 3 (ipykernel)",
   "language": "python",
   "name": "python3"
  },
  "language_info": {
   "codemirror_mode": {
    "name": "ipython",
    "version": 3
   },
   "file_extension": ".py",
   "mimetype": "text/x-python",
   "name": "python",
   "nbconvert_exporter": "python",
   "pygments_lexer": "ipython3",
   "version": "3.11.5"
  }
 },
 "nbformat": 4,
 "nbformat_minor": 5
}
