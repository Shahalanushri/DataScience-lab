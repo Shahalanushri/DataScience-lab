{
 "cells": [
  {
   "cell_type": "code",
   "execution_count": 19,
   "id": "cc875ba9",
   "metadata": {},
   "outputs": [
    {
     "name": "stdout",
     "output_type": "stream",
     "text": [
      " Accuracy of k-NN with K=3:1.00\n"
     ]
    }
   ],
   "source": [
    "import numpy as np\n",
    "from sklearn.datasets import load_iris\n",
    "from sklearn.model_selection import train_test_split\n",
    "from sklearn.neighbors import KNeighborsClassifier\n",
    "from sklearn.metrics import accuracy_score\n",
    "#Load the Iris dataset\n",
    "data=load_iris()\n",
    "X=data.data #features\n",
    "y=data.target # Tarrget(labels)\n",
    "#split the dataset into training and testing sets\n",
    "X_train,X_test,y_train,y_test,=train_test_split(X,y,test_size=0.2,random_state=42)\n",
    "#Initialize the K-NN clasifier with a specified value of K\n",
    "k=3 #yoyu can change this value as needed\n",
    "knn=KNeighborsClassifier(n_neighbors=k)\n",
    "#fit the model on the training data\n",
    "knn.fit(X_train,y_train)\n",
    "#make predictions on the test data\n",
    "y_pred=knn.predict(X_test)\n",
    "#calculate the accuracy of the model\n",
    "accuracy=accuracy_score(y_test,y_pred)\n",
    "print(f' Accuracy of k-NN with K={K}:{accuracy:.2f}')"
   ]
  },
  {
   "cell_type": "code",
   "execution_count": null,
   "id": "fd6a7d68",
   "metadata": {},
   "outputs": [],
   "source": []
  },
  {
   "cell_type": "code",
   "execution_count": null,
   "id": "c20b9879",
   "metadata": {},
   "outputs": [],
   "source": []
  },
  {
   "cell_type": "code",
   "execution_count": null,
   "id": "cb46f4f1",
   "metadata": {},
   "outputs": [],
   "source": []
  },
  {
   "cell_type": "code",
   "execution_count": null,
   "id": "36ce6024",
   "metadata": {},
   "outputs": [],
   "source": []
  }
 ],
 "metadata": {
  "kernelspec": {
   "display_name": "Python 3 (ipykernel)",
   "language": "python",
   "name": "python3"
  },
  "language_info": {
   "codemirror_mode": {
    "name": "ipython",
    "version": 3
   },
   "file_extension": ".py",
   "mimetype": "text/x-python",
   "name": "python",
   "nbconvert_exporter": "python",
   "pygments_lexer": "ipython3",
   "version": "3.11.5"
  }
 },
 "nbformat": 4,
 "nbformat_minor": 5
}
